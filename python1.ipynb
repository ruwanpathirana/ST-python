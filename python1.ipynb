{
 "cells": [
  {
   "cell_type": "code",
   "execution_count": null,
   "id": "8a226b65",
   "metadata": {},
   "outputs": [],
   "source": [
    "print(\"Hello World\")"
   ]
  },
  {
   "cell_type": "code",
   "execution_count": null,
   "id": "ba3feab0",
   "metadata": {},
   "outputs": [],
   "source": [
    "print(\"   /|\")\n",
    "print(\"  /| \")\n",
    "print(\" /|  \")\n",
    "print(\"/|   \")\n"
   ]
  },
  {
   "cell_type": "code",
   "execution_count": null,
   "id": "d5fd0129",
   "metadata": {},
   "outputs": [],
   "source": [
    "print(\"python \\n programming\")"
   ]
  },
  {
   "cell_type": "code",
   "execution_count": null,
   "id": "6d25ee39",
   "metadata": {},
   "outputs": [],
   "source": [
    "phrase=\"python programming\"\n",
    "print(phrase)"
   ]
  },
  {
   "cell_type": "code",
   "execution_count": null,
   "id": "b96e0211",
   "metadata": {},
   "outputs": [],
   "source": [
    "print(phrase+\" is open source\")"
   ]
  },
  {
   "cell_type": "code",
   "execution_count": null,
   "id": "f244c228",
   "metadata": {},
   "outputs": [],
   "source": [
    "print(phrase.lower())"
   ]
  },
  {
   "cell_type": "code",
   "execution_count": null,
   "id": "f11ccbbf",
   "metadata": {},
   "outputs": [],
   "source": [
    "print(phrase.upper())"
   ]
  },
  {
   "cell_type": "code",
   "execution_count": null,
   "id": "36317ca0",
   "metadata": {},
   "outputs": [],
   "source": [
    "print(phrase.isupper())"
   ]
  },
  {
   "cell_type": "code",
   "execution_count": null,
   "id": "95be41ba",
   "metadata": {},
   "outputs": [],
   "source": [
    "print(phrase.islower())"
   ]
  },
  {
   "cell_type": "code",
   "execution_count": null,
   "id": "d61f704a",
   "metadata": {},
   "outputs": [],
   "source": [
    "x=1\n",
    "y=2\n",
    "x+y"
   ]
  },
  {
   "cell_type": "code",
   "execution_count": null,
   "id": "2c4a7444",
   "metadata": {},
   "outputs": [],
   "source": [
    "def addnum(x,y):\n",
    "    return x+y"
   ]
  },
  {
   "cell_type": "code",
   "execution_count": null,
   "id": "7578dfa4",
   "metadata": {},
   "outputs": [],
   "source": [
    "addnum(4,8)"
   ]
  },
  {
   "cell_type": "code",
   "execution_count": null,
   "id": "6d09d69b",
   "metadata": {},
   "outputs": [],
   "source": [
    "type(\"UOC\")"
   ]
  },
  {
   "cell_type": "code",
   "execution_count": null,
   "id": "3171c53c",
   "metadata": {},
   "outputs": [],
   "source": [
    "type(10)"
   ]
  },
  {
   "cell_type": "code",
   "execution_count": null,
   "id": "ccb822e9",
   "metadata": {},
   "outputs": [],
   "source": [
    "type(15.6)"
   ]
  },
  {
   "cell_type": "code",
   "execution_count": null,
   "id": "d5c4bdb0",
   "metadata": {},
   "outputs": [],
   "source": [
    "type(addnum)"
   ]
  },
  {
   "cell_type": "code",
   "execution_count": null,
   "id": "ceb8bbee",
   "metadata": {},
   "outputs": [],
   "source": [
    "x=\"This is string\"\n",
    "\n",
    "print(x[3])"
   ]
  },
  {
   "cell_type": "code",
   "execution_count": null,
   "id": "a43fbcc4",
   "metadata": {},
   "outputs": [],
   "source": [
    "print(x[3:10])"
   ]
  },
  {
   "cell_type": "code",
   "execution_count": null,
   "id": "1cc398a9",
   "metadata": {},
   "outputs": [],
   "source": [
    "print(x[:4])"
   ]
  },
  {
   "cell_type": "code",
   "execution_count": null,
   "id": "688579a9",
   "metadata": {},
   "outputs": [],
   "source": [
    "y=\"Department of statistics\""
   ]
  },
  {
   "cell_type": "code",
   "execution_count": null,
   "id": "c70a42ea",
   "metadata": {},
   "outputs": [],
   "source": [
    "print(y[14:])"
   ]
  },
  {
   "cell_type": "code",
   "execution_count": null,
   "id": "fdfcddb2",
   "metadata": {},
   "outputs": [],
   "source": [
    "Fname=\"Barak\"\n",
    "Lname=\"Obama\""
   ]
  },
  {
   "cell_type": "code",
   "execution_count": null,
   "id": "6dcf8b17",
   "metadata": {},
   "outputs": [],
   "source": [
    "print(Fname+Lname)\n",
    "print(Fname+\" \"+Lname)"
   ]
  },
  {
   "cell_type": "code",
   "execution_count": null,
   "id": "e604109b",
   "metadata": {},
   "outputs": [],
   "source": [
    "print(Fname*3)"
   ]
  },
  {
   "cell_type": "code",
   "execution_count": null,
   "id": "9a002a23",
   "metadata": {},
   "outputs": [],
   "source": [
    "print(\"ma\" in Lname)"
   ]
  },
  {
   "cell_type": "code",
   "execution_count": null,
   "id": "1602cbc8",
   "metadata": {},
   "outputs": [],
   "source": [
    "x=int(input(\"Enter a number: \"))\n",
    "y=int(input(\"Enter another number: \"))\n",
    "print(\"Sum: \",x+y)"
   ]
  },
  {
   "cell_type": "code",
   "execution_count": null,
   "id": "7b4fdc0b",
   "metadata": {},
   "outputs": [],
   "source": [
    "def addnum(x,y):\n",
    "    x=int(input(\"Enter a number: \"))\n",
    "    y=int(input(\"Enter another number: \"))\n",
    "    return x+y\n",
    "\n",
    "addnum(x,y)"
   ]
  },
  {
   "cell_type": "code",
   "execution_count": null,
   "id": "33d7272a",
   "metadata": {},
   "outputs": [],
   "source": [
    "x=int(input(\"Enter a number: \"))\n",
    "\n",
    "if (x>0):\n",
    "    x+=1\n",
    "    \n",
    "print(x)"
   ]
  },
  {
   "cell_type": "code",
   "execution_count": 5,
   "id": "f38dac14",
   "metadata": {},
   "outputs": [
    {
     "ename": "NameError",
     "evalue": "name 'y' is not defined",
     "output_type": "error",
     "traceback": [
      "\u001b[1;31m---------------------------------------------------------------------------\u001b[0m",
      "\u001b[1;31mNameError\u001b[0m                                 Traceback (most recent call last)",
      "Input \u001b[1;32mIn [5]\u001b[0m, in \u001b[0;36m<cell line: 7>\u001b[1;34m()\u001b[0m\n\u001b[0;32m      4\u001b[0m         y\u001b[38;5;241m+\u001b[39m\u001b[38;5;241m=\u001b[39m\u001b[38;5;241m1\u001b[39m\n\u001b[0;32m      5\u001b[0m         \u001b[38;5;28mprint\u001b[39m(y)\n\u001b[1;32m----> 7\u001b[0m func(\u001b[43my\u001b[49m)\n",
      "\u001b[1;31mNameError\u001b[0m: name 'y' is not defined"
     ]
    }
   ],
   "source": [
    "def func(y):\n",
    "    y=int(input(\"Enter a number: \"))\n",
    "    if (y>0):\n",
    "        y+=1\n",
    "        print(y)\n",
    "\n",
    "func(y)"
   ]
  },
  {
   "cell_type": "code",
   "execution_count": 7,
   "id": "f6db9a69",
   "metadata": {},
   "outputs": [
    {
     "name": "stdout",
     "output_type": "stream",
     "text": [
      "Enter thye age: 10\n",
      "You are not eligible to vote\n",
      "you have 8 years to vote\n"
     ]
    }
   ],
   "source": [
    "def func():\n",
    "    age=int(input(\"Enter thye age: \"))\n",
    "    if (age>18):\n",
    "        print(\"You are eligible to vote\")\n",
    "        \n",
    "    else:\n",
    "        print(\"You are not eligible to vote\")\n",
    "        print(\"you have\", 18-age, \"years to vote\")\n",
    "        \n",
    "func()"
   ]
  },
  {
   "cell_type": "code",
   "execution_count": 9,
   "id": "6ecc3fbf",
   "metadata": {},
   "outputs": [
    {
     "name": "stdout",
     "output_type": "stream",
     "text": [
      "Enter thye age: 13\n",
      "You are not eligible to vote\n",
      "you have 5 years to vote\n"
     ]
    }
   ],
   "source": [
    "def func():\n",
    "    age=int(input(\"Enter thye age: \"))\n",
    "    if (age>18):\n",
    "        print(\"You are eligible to vote\")\n",
    "        \n",
    "    else:\n",
    "        print(\"You are not eligible to vote\")\n",
    "        age1=str(18-age)\n",
    "        \n",
    "        print(\"you have \"+ age1+ \" years to vote\")\n",
    "        \n",
    "func()"
   ]
  }
 ],
 "metadata": {
  "kernelspec": {
   "display_name": "Python 3 (ipykernel)",
   "language": "python",
   "name": "python3"
  },
  "language_info": {
   "codemirror_mode": {
    "name": "ipython",
    "version": 3
   },
   "file_extension": ".py",
   "mimetype": "text/x-python",
   "name": "python",
   "nbconvert_exporter": "python",
   "pygments_lexer": "ipython3",
   "version": "3.9.12"
  }
 },
 "nbformat": 4,
 "nbformat_minor": 5
}
